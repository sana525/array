{
 "cells": [
  {
   "cell_type": "code",
   "execution_count": 1,
   "id": "a21eba53-227a-47d4-8aec-d323d9d4d5ff",
   "metadata": {},
   "outputs": [],
   "source": [
    "import pandas as pd\n",
    "import numpy as np"
   ]
  },
  {
   "cell_type": "code",
   "execution_count": 2,
   "id": "ad8c8771-91aa-49ee-a6a7-eaa3447efc90",
   "metadata": {},
   "outputs": [],
   "source": [
    "a=np.random.randint(20,60,15)"
   ]
  },
  {
   "cell_type": "code",
   "execution_count": 3,
   "id": "b8e3f5a8-0abf-47c7-af9d-f225d818e199",
   "metadata": {},
   "outputs": [
    {
     "data": {
      "text/plain": [
       "array([56, 31, 47, 58, 59, 29, 37, 20, 45, 27, 37, 33, 30, 52, 57])"
      ]
     },
     "execution_count": 3,
     "metadata": {},
     "output_type": "execute_result"
    }
   ],
   "source": [
    "a"
   ]
  },
  {
   "cell_type": "code",
   "execution_count": 4,
   "id": "8620b442-3126-4b10-ac3b-7813f72bdb23",
   "metadata": {},
   "outputs": [
    {
     "data": {
      "text/plain": [
       "56"
      ]
     },
     "execution_count": 4,
     "metadata": {},
     "output_type": "execute_result"
    }
   ],
   "source": [
    "a[0]\n"
   ]
  },
  {
   "cell_type": "code",
   "execution_count": 5,
   "id": "66e7f147-8090-4d37-9233-d9f22ebd7956",
   "metadata": {},
   "outputs": [
    {
     "data": {
      "text/plain": [
       "20"
      ]
     },
     "execution_count": 5,
     "metadata": {},
     "output_type": "execute_result"
    }
   ],
   "source": [
    "a[7]"
   ]
  },
  {
   "cell_type": "code",
   "execution_count": 6,
   "id": "881d6204-fe61-48de-a70b-40a81ccf3958",
   "metadata": {},
   "outputs": [
    {
     "data": {
      "text/plain": [
       "33"
      ]
     },
     "execution_count": 6,
     "metadata": {},
     "output_type": "execute_result"
    }
   ],
   "source": [
    "a[-4]"
   ]
  },
  {
   "cell_type": "code",
   "execution_count": null,
   "id": "1a395d6b-8144-484a-8f32-99018b04e015",
   "metadata": {},
   "outputs": [],
   "source": [
    "#seed function makes sure that the date is not changing"
   ]
  },
  {
   "cell_type": "code",
   "execution_count": 15,
   "id": "9c796b5e-0114-4351-b70d-1a2138b17c48",
   "metadata": {},
   "outputs": [
    {
     "data": {
      "text/plain": [
       "array([[76, 55, 71, 70, 67, 70, 54, 54],\n",
       "       [68, 76, 71, 73, 60, 60, 74, 58],\n",
       "       [57, 73, 76, 59, 73, 49, 61, 70],\n",
       "       [75, 65, 75, 64, 56, 57, 53, 58],\n",
       "       [76, 73, 63, 50, 65, 52, 48, 51],\n",
       "       [77, 46, 47, 63, 69, 60, 74, 57],\n",
       "       [76, 56, 77, 72, 48, 58, 66, 68]])"
      ]
     },
     "execution_count": 15,
     "metadata": {},
     "output_type": "execute_result"
    }
   ],
   "source": [
    "np.random.seed(94)\n",
    "b=np.random.randint(45,78,(7,8))\n",
    "b"
   ]
  },
  {
   "cell_type": "code",
   "execution_count": 16,
   "id": "cf0afbed-c0f6-4b30-b9fc-762c19cc0d03",
   "metadata": {},
   "outputs": [
    {
     "data": {
      "text/plain": [
       "2"
      ]
     },
     "execution_count": 16,
     "metadata": {},
     "output_type": "execute_result"
    }
   ],
   "source": [
    "b.ndim"
   ]
  },
  {
   "cell_type": "code",
   "execution_count": 17,
   "id": "8a518bd2-1dbf-4b46-9ecb-d16a588f9340",
   "metadata": {},
   "outputs": [
    {
     "data": {
      "text/plain": [
       "array([76, 56, 77, 72, 48, 58, 66, 68])"
      ]
     },
     "execution_count": 17,
     "metadata": {},
     "output_type": "execute_result"
    }
   ],
   "source": [
    "b[-1] # last row"
   ]
  },
  {
   "cell_type": "code",
   "execution_count": 18,
   "id": "c5e9adaf-be2d-4a7d-a774-03d63e0c29c8",
   "metadata": {},
   "outputs": [
    {
     "data": {
      "text/plain": [
       "array([75, 65, 75, 64, 56, 57, 53, 58])"
      ]
     },
     "execution_count": 18,
     "metadata": {},
     "output_type": "execute_result"
    }
   ],
   "source": [
    "b[3] # 3rd row"
   ]
  },
  {
   "cell_type": "code",
   "execution_count": null,
   "id": "ba0eefea-5ccf-4395-8085-f0e830e6fe6b",
   "metadata": {},
   "outputs": [],
   "source": [
    "# to access a column we need to add \" :, \""
   ]
  },
  {
   "cell_type": "code",
   "execution_count": 19,
   "id": "726d4a02-fb42-4f22-8175-3030252565f9",
   "metadata": {},
   "outputs": [
    {
     "data": {
      "text/plain": [
       "array([54, 58, 70, 58, 51, 57, 68])"
      ]
     },
     "execution_count": 19,
     "metadata": {},
     "output_type": "execute_result"
    }
   ],
   "source": [
    "b[:,7] # 7th column"
   ]
  },
  {
   "cell_type": "code",
   "execution_count": 20,
   "id": "58b84ac2-ce2c-415a-aa13-1dfd012be35c",
   "metadata": {},
   "outputs": [
    {
     "data": {
      "text/plain": [
       "array([67, 60, 73, 56, 65, 69, 48])"
      ]
     },
     "execution_count": 20,
     "metadata": {},
     "output_type": "execute_result"
    }
   ],
   "source": [
    "b[:,4] # 4th column"
   ]
  },
  {
   "cell_type": "code",
   "execution_count": 22,
   "id": "83f9eeb4-b0b2-4e93-a0ae-44a443f54af7",
   "metadata": {},
   "outputs": [
    {
     "data": {
      "text/plain": [
       "73"
      ]
     },
     "execution_count": 22,
     "metadata": {},
     "output_type": "execute_result"
    }
   ],
   "source": [
    "b[1,3] # 1st row and 3rd column position"
   ]
  },
  {
   "cell_type": "code",
   "execution_count": 23,
   "id": "9fae0613-e01d-4fb2-a1a5-498fe44b1649",
   "metadata": {},
   "outputs": [
    {
     "data": {
      "text/plain": [
       "74"
      ]
     },
     "execution_count": 23,
     "metadata": {},
     "output_type": "execute_result"
    }
   ],
   "source": [
    "b[5,6] # 5th row and 6th column position"
   ]
  },
  {
   "cell_type": "code",
   "execution_count": 24,
   "id": "52daf638-4b08-4e83-921e-d227ead64a5a",
   "metadata": {},
   "outputs": [
    {
     "data": {
      "text/plain": [
       "array([[76, 55, 71, 70, 67, 70, 54, 54],\n",
       "       [68, 76, 71, 73, 60, 60, 74, 58],\n",
       "       [57, 73, 76, 59, 73, 49, 61, 70],\n",
       "       [75, 65, 75, 64, 56, 57, 53, 58],\n",
       "       [76, 73, 63, 50, 65, 52, 48, 51],\n",
       "       [77, 46, 47, 63, 69, 60, 74, 57],\n",
       "       [76, 56, 77, 72, 48, 58, 66, 68]])"
      ]
     },
     "execution_count": 24,
     "metadata": {},
     "output_type": "execute_result"
    }
   ],
   "source": [
    "b"
   ]
  },
  {
   "cell_type": "code",
   "execution_count": null,
   "id": "3ba97741-8b97-4d27-a9f7-6308ef0a030d",
   "metadata": {},
   "outputs": [],
   "source": [
    "# left part of (,) reseverd for rows and right part of( ,) is reserved for the columns"
   ]
  },
  {
   "cell_type": "code",
   "execution_count": 27,
   "id": "440b4253-6276-471f-8099-40fb65ee2b42",
   "metadata": {},
   "outputs": [
    {
     "data": {
      "text/plain": [
       "array([73, 76, 59, 73, 49])"
      ]
     },
     "execution_count": 27,
     "metadata": {},
     "output_type": "execute_result"
    }
   ],
   "source": [
    "b[2,1:6]"
   ]
  },
  {
   "cell_type": "code",
   "execution_count": null,
   "id": "94406c72-1a2a-488b-82ee-2313fab246f3",
   "metadata": {},
   "outputs": [],
   "source": [
    "array[row_start:row_end:row_stop, col_start:col_end:col_step]"
   ]
  },
  {
   "cell_type": "code",
   "execution_count": 31,
   "id": "0864401c-d1ac-4a49-bf6d-2b4ebdeec635",
   "metadata": {},
   "outputs": [
    {
     "data": {
      "text/plain": [
       "array([[76, 55, 71, 70, 67, 70, 54, 54],\n",
       "       [68, 76, 71, 73, 60, 60, 74, 58],\n",
       "       [57, 73, 76, 59, 73, 49, 61, 70],\n",
       "       [75, 65, 75, 64, 56, 57, 53, 58],\n",
       "       [76, 73, 63, 50, 65, 52, 48, 51],\n",
       "       [77, 46, 47, 63, 69, 60, 74, 57],\n",
       "       [76, 56, 77, 72, 48, 58, 66, 68]])"
      ]
     },
     "execution_count": 31,
     "metadata": {},
     "output_type": "execute_result"
    }
   ],
   "source": [
    "b"
   ]
  },
  {
   "cell_type": "code",
   "execution_count": 32,
   "id": "f39c8363-60a7-4f4e-94b6-57edc283d44d",
   "metadata": {},
   "outputs": [
    {
     "data": {
      "text/plain": [
       "array([[68, 76, 71, 73, 60, 60, 74, 58],\n",
       "       [57, 73, 76, 59, 73, 49, 61, 70],\n",
       "       [75, 65, 75, 64, 56, 57, 53, 58],\n",
       "       [76, 73, 63, 50, 65, 52, 48, 51],\n",
       "       [77, 46, 47, 63, 69, 60, 74, 57]])"
      ]
     },
     "execution_count": 32,
     "metadata": {},
     "output_type": "execute_result"
    }
   ],
   "source": [
    "b[1:6]"
   ]
  },
  {
   "cell_type": "code",
   "execution_count": 34,
   "id": "8286948f-3d3a-448c-b220-f8f6d4ade7d1",
   "metadata": {},
   "outputs": [
    {
     "data": {
      "text/plain": [
       "array([[68, 76, 71, 73, 60, 60, 74, 58],\n",
       "       [75, 65, 75, 64, 56, 57, 53, 58],\n",
       "       [77, 46, 47, 63, 69, 60, 74, 57]])"
      ]
     },
     "execution_count": 34,
     "metadata": {},
     "output_type": "execute_result"
    }
   ],
   "source": [
    "b[1:6:2] #row indexing and row slicing"
   ]
  },
  {
   "cell_type": "code",
   "execution_count": 35,
   "id": "57eea43c-eb4e-440b-b97f-b9f4bfe0ee4e",
   "metadata": {},
   "outputs": [
    {
     "data": {
      "text/plain": [
       "array([[76, 71, 73, 60, 60],\n",
       "       [65, 75, 64, 56, 57],\n",
       "       [46, 47, 63, 69, 60]])"
      ]
     },
     "execution_count": 35,
     "metadata": {},
     "output_type": "execute_result"
    }
   ],
   "source": [
    "b[1:6:2,1:6] # row indexing,row slicing and column indexing,column slicing"
   ]
  },
  {
   "cell_type": "code",
   "execution_count": 38,
   "id": "85fdd798-6046-4054-842a-fb58bffca17b",
   "metadata": {},
   "outputs": [
    {
     "data": {
      "text/plain": [
       "array([[75, 64, 56, 57],\n",
       "       [63, 50, 65, 52],\n",
       "       [47, 63, 69, 60]])"
      ]
     },
     "execution_count": 38,
     "metadata": {},
     "output_type": "execute_result"
    }
   ],
   "source": [
    "b[3:6,2:6]"
   ]
  },
  {
   "cell_type": "code",
   "execution_count": 39,
   "id": "708583bc-3883-429f-a0f4-c0009f23b468",
   "metadata": {},
   "outputs": [
    {
     "data": {
      "text/plain": [
       "array([[76, 55, 71, 70, 67, 70, 54, 54],\n",
       "       [68, 76, 71, 73, 60, 60, 74, 58],\n",
       "       [57, 73, 76, 59, 73, 49, 61, 70],\n",
       "       [75, 65, 75, 64, 56, 57, 53, 58],\n",
       "       [76, 73, 63, 50, 65, 52, 48, 51],\n",
       "       [77, 46, 47, 63, 69, 60, 74, 57],\n",
       "       [76, 56, 77, 72, 48, 58, 66, 68]])"
      ]
     },
     "execution_count": 39,
     "metadata": {},
     "output_type": "execute_result"
    }
   ],
   "source": [
    "b"
   ]
  },
  {
   "cell_type": "code",
   "execution_count": 42,
   "id": "ad1eca70-a934-42b4-8165-e09caf30467a",
   "metadata": {},
   "outputs": [
    {
     "data": {
      "text/plain": [
       "array([[68, 76, 71, 73, 60, 60, 74, 58],\n",
       "       [75, 65, 75, 64, 56, 57, 53, 58],\n",
       "       [77, 46, 47, 63, 69, 60, 74, 57]])"
      ]
     },
     "execution_count": 42,
     "metadata": {},
     "output_type": "execute_result"
    }
   ],
   "source": [
    "b[1:6:2]"
   ]
  },
  {
   "cell_type": "code",
   "execution_count": 43,
   "id": "93744c35-b9a8-42ec-9b14-436631097adc",
   "metadata": {},
   "outputs": [
    {
     "data": {
      "text/plain": [
       "array([[76, 60, 58],\n",
       "       [65, 56, 58],\n",
       "       [46, 69, 57]])"
      ]
     },
     "execution_count": 43,
     "metadata": {},
     "output_type": "execute_result"
    }
   ],
   "source": [
    "b[1:6:2,1:8:3]"
   ]
  },
  {
   "cell_type": "code",
   "execution_count": null,
   "id": "83fd7a45-2286-431a-863e-b6184f03f977",
   "metadata": {},
   "outputs": [],
   "source": []
  }
 ],
 "metadata": {
  "kernelspec": {
   "display_name": "Python 3 (ipykernel)",
   "language": "python",
   "name": "python3"
  },
  "language_info": {
   "codemirror_mode": {
    "name": "ipython",
    "version": 3
   },
   "file_extension": ".py",
   "mimetype": "text/x-python",
   "name": "python",
   "nbconvert_exporter": "python",
   "pygments_lexer": "ipython3",
   "version": "3.12.7"
  }
 },
 "nbformat": 4,
 "nbformat_minor": 5
}
